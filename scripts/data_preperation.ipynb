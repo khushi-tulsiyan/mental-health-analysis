{
 "cells": [
  {
   "cell_type": "code",
   "execution_count": 37,
   "metadata": {},
   "outputs": [],
   "source": [
    "import pandas as pd\n",
    "import numpy as np\n",
    "from sklearn.model_selection import train_test_split\n",
    "from sklearn.preprocessing import LabelEncoder\n",
    "import re"
   ]
  },
  {
   "cell_type": "code",
   "execution_count": 38,
   "metadata": {},
   "outputs": [
    {
     "name": "stdout",
     "output_type": "stream",
     "text": [
      "DataFrame Loaded Successfully\n",
      "             Timestamp  Age  Gender         Country  State  Self_Employed  \\\n",
      "0            Timestamp  Age  Gender         Country  state  self_employed   \n",
      "1  2014-08-27 11:29:31   37  Female   United States     IL            NaN   \n",
      "2  2014-08-27 11:29:37   44       M   United States     IN            NaN   \n",
      "3  2014-08-27 11:29:44   32    Male          Canada    NaN            NaN   \n",
      "4  2014-08-27 11:29:46   31    Male  United Kingdom    NaN            NaN   \n",
      "\n",
      "   Family_History  Treatment  Work_Interfere    No_Employees  ...  \\\n",
      "0  family_history  treatment  work_interfere    no_employees  ...   \n",
      "1              No        Yes           Often            6-25  ...   \n",
      "2              No         No          Rarely  More than 1000  ...   \n",
      "3              No         No          Rarely            6-25  ...   \n",
      "4             Yes        Yes           Often          26-100  ...   \n",
      "\n",
      "                Leave  Mental_Health_Consequence  Phys_Health_Consequence  \\\n",
      "0               leave  mental_health_consequence  phys_health_consequence   \n",
      "1       Somewhat easy                         No                       No   \n",
      "2          Don't know                      Maybe                       No   \n",
      "3  Somewhat difficult                         No                       No   \n",
      "4  Somewhat difficult                        Yes                      Yes   \n",
      "\n",
      "      Coworkers  Supervisor  Mental_Health_Interview  Phys_Health_Interview  \\\n",
      "0     coworkers  supervisor  mental_health_interview  phys_health_interview   \n",
      "1  Some of them         Yes                       No                  Maybe   \n",
      "2            No          No                       No                     No   \n",
      "3           Yes         Yes                      Yes                    Yes   \n",
      "4  Some of them          No                    Maybe                  Maybe   \n",
      "\n",
      "   Mental_vs_Physical  Obs_Consequence  Comments  \n",
      "0  mental_vs_physical  obs_consequence  comments  \n",
      "1                 Yes               No       NaN  \n",
      "2          Don't know               No       NaN  \n",
      "3                  No               No       NaN  \n",
      "4                  No              Yes       NaN  \n",
      "\n",
      "[5 rows x 27 columns]\n",
      "Index(['Timestamp', 'Age', 'Gender', 'Country', 'State', 'Self_Employed',\n",
      "       'Family_History', 'Treatment', 'Work_Interfere', 'No_Employees',\n",
      "       'Remote_Work', 'Tech_Company', 'Benefits', 'Care_Options',\n",
      "       'Wellness_Program', 'Seek_Help', 'Anonymity', 'Leave',\n",
      "       'Mental_Health_Consequence', 'Phys_Health_Consequence', 'Coworkers',\n",
      "       'Supervisor', 'Mental_Health_Interview', 'Phys_Health_Interview',\n",
      "       'Mental_vs_Physical', 'Obs_Consequence', 'Comments'],\n",
      "      dtype='object')\n"
     ]
    }
   ],
   "source": [
    "\n",
    "file_path = \"../data/survey.csv\"\n",
    "\n",
    "column_names = [\n",
    "    \"Timestamp\", \"Age\", \"Gender\", \"Country\", \"State\", \"Self_Employed\",\n",
    "    \"Family_History\", \"Treatment\", \"Work_Interfere\", \"No_Employees\",\n",
    "    \"Remote_Work\", \"Tech_Company\", \"Benefits\", \"Care_Options\",\n",
    "    \"Wellness_Program\", \"Seek_Help\", \"Anonymity\", \"Leave\",\n",
    "    \"Mental_Health_Consequence\", \"Phys_Health_Consequence\",\n",
    "    \"Coworkers\", \"Supervisor\", \"Mental_Health_Interview\",\n",
    "    \"Phys_Health_Interview\", \"Mental_vs_Physical\", \"Obs_Consequence\",\n",
    "    \"Comments\"\n",
    "]\n",
    "\n",
    "df = pd.read_csv(file_path, names=column_names, header=None)\n",
    "\n",
    "# Verify the dataset is loaded correctly\n",
    "print(\"DataFrame Loaded Successfully\")\n",
    "print(df.head())  # Display first few rows\n",
    "print(df.columns)  # Check column names\n"
   ]
  },
  {
   "cell_type": "code",
   "execution_count": 39,
   "metadata": {},
   "outputs": [],
   "source": [
    "def clean_text(text):\n",
    "    if isinstance(text, str):\n",
    "        text = text.lower()\n",
    "        text = re.sub(r'[^a-zA-Z0-9]', '', text)\n",
    "    return text"
   ]
  },
  {
   "cell_type": "code",
   "execution_count": 40,
   "metadata": {},
   "outputs": [],
   "source": [
    "df.fillna(\"Unknown\", inplace=True)"
   ]
  },
  {
   "cell_type": "code",
   "execution_count": 41,
   "metadata": {},
   "outputs": [],
   "source": [
    "df.columns = df.columns.str.strip().str.lower()  \n",
    "selected_features = ['family_history', 'work_interfere', 'mental_vs_physical', 'coworkers', 'leave', 'benefits', 'treatment']\n",
    "df = df[[col for col in selected_features if col in df.columns]]  "
   ]
  },
  {
   "cell_type": "code",
   "execution_count": 52,
   "metadata": {},
   "outputs": [],
   "source": [
    "df = df.map(clean_text)"
   ]
  },
  {
   "cell_type": "code",
   "execution_count": 44,
   "metadata": {},
   "outputs": [],
   "source": [
    "le = LabelEncoder()\n",
    "for col in df.columns:\n",
    "    df[col] = le.fit_transform(df[col])"
   ]
  },
  {
   "cell_type": "code",
   "execution_count": 46,
   "metadata": {},
   "outputs": [],
   "source": [
    "x = df.drop(columns=['treatment'])\n",
    "y = df['treatment']\n",
    "\n",
    "X_train, X_test, y_train, y_test = train_test_split(x, y, test_size=0.2, random_state=42)"
   ]
  },
  {
   "cell_type": "code",
   "execution_count": 48,
   "metadata": {},
   "outputs": [
    {
     "name": "stdout",
     "output_type": "stream",
     "text": [
      "Data preparation complete. Training samples: 1008\n"
     ]
    }
   ],
   "source": [
    "print(\"Data preparation complete. Training samples:\", len(X_train))\n"
   ]
  },
  {
   "cell_type": "code",
   "execution_count": 49,
   "metadata": {},
   "outputs": [],
   "source": [
    "train_data = pd.DataFrame(X_train)\n",
    "test_data = pd.DataFrame(X_test)\n",
    "\n",
    "train_data['treatment'] = y_train\n",
    "test_data['treatment'] = y_test"
   ]
  },
  {
   "cell_type": "code",
   "execution_count": 50,
   "metadata": {},
   "outputs": [],
   "source": [
    "train_data.to_csv('../data/train_data.csv', index=False)\n",
    "test_data.to_csv('../data/test_data.csv', index=False)"
   ]
  },
  {
   "cell_type": "code",
   "execution_count": 51,
   "metadata": {},
   "outputs": [
    {
     "name": "stdout",
     "output_type": "stream",
     "text": [
      "Processed data saved\n"
     ]
    }
   ],
   "source": [
    "print(\"Processed data saved\")"
   ]
  },
  {
   "cell_type": "code",
   "execution_count": null,
   "metadata": {},
   "outputs": [],
   "source": []
  }
 ],
 "metadata": {
  "kernelspec": {
   "display_name": "base",
   "language": "python",
   "name": "python3"
  },
  "language_info": {
   "codemirror_mode": {
    "name": "ipython",
    "version": 3
   },
   "file_extension": ".py",
   "mimetype": "text/x-python",
   "name": "python",
   "nbconvert_exporter": "python",
   "pygments_lexer": "ipython3",
   "version": "3.12.7"
  }
 },
 "nbformat": 4,
 "nbformat_minor": 2
}
